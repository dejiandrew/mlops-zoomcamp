{
 "cells": [
  {
   "cell_type": "code",
   "execution_count": null,
   "id": "5ff0cbed-9921-4249-ab1d-61b5bfa84a8d",
   "metadata": {},
   "outputs": [],
   "source": []
  }
 ],
 "metadata": {
  "kernelspec": {
   "display_name": "",
   "name": ""
  },
  "language_info": {
   "name": ""
  }
 },
 "nbformat": 4,
 "nbformat_minor": 5
}
